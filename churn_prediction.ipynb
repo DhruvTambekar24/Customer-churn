{
 "cells": [
  {
   "cell_type": "markdown",
   "id": "0cf15615",
   "metadata": {},
   "source": [
    "# Churn Prediction Model for SBI Life\n",
    "This notebook trains a churn prediction model using synthetic insurance customer data.\n",
    "\n",
    "### Steps:\n",
    "1. Load and preprocess dataset\n",
    "2. Feature Engineering\n",
    "3. Train Machine Learning models (Random Forest & XGBoost)\n",
    "4. Evaluate performance\n",
    "5. Save trained model\n"
   ]
  },
  {
   "cell_type": "code",
   "execution_count": null,
   "id": "49d4bcc3",
   "metadata": {},
   "outputs": [],
   "source": [
    "\n",
    "import pandas as pd\n",
    "import numpy as np\n",
    "import matplotlib.pyplot as plt\n",
    "import seaborn as sns\n",
    "from sklearn.model_selection import train_test_split\n",
    "from sklearn.ensemble import RandomForestClassifier\n",
    "from sklearn.metrics import accuracy_score, classification_report\n",
    "import joblib\n",
    "\n",
    "# Load dataset\n",
    "df = pd.read_csv(\"insurance_churn_data.csv\")\n",
    "\n",
    "# Display first few rows\n",
    "df.head()\n",
    "    "
   ]
  },
  {
   "cell_type": "code",
   "execution_count": null,
   "id": "ce48241a",
   "metadata": {},
   "outputs": [],
   "source": [
    "\n",
    "# Convert categorical columns to numerical\n",
    "df['Gender'] = df['Gender'].map({'M': 0, 'F': 1})\n",
    "df['Policy_Type'] = df['Policy_Type'].map({'Term': 0, 'ULIP': 1, 'Whole Life': 2})\n",
    "\n",
    "# Convert Last_Premium_Payment_Date to \"Days Since Last Payment\"\n",
    "df['Last_Premium_Payment_Date'] = pd.to_datetime(df['Last_Premium_Payment_Date'])\n",
    "df['Days_Since_Last_Payment'] = (pd.to_datetime(\"today\") - df['Last_Premium_Payment_Date']).dt.days\n",
    "df.drop(columns=['Last_Premium_Payment_Date'], inplace=True)\n",
    "\n",
    "# Check dataset info\n",
    "df.info()\n",
    "    "
   ]
  },
  {
   "cell_type": "code",
   "execution_count": null,
   "id": "3750ee86",
   "metadata": {},
   "outputs": [],
   "source": [
    "\n",
    "# Split data into features and labels\n",
    "X = df.drop(columns=[\"Customer_ID\", \"Churn_Label\"])  # Features\n",
    "y = df[\"Churn_Label\"]  # Target variable\n",
    "\n",
    "# Train-Test Split (80-20 ratio)\n",
    "X_train, X_test, y_train, y_test = train_test_split(X, y, test_size=0.2, random_state=42)\n",
    "\n",
    "# Check data shapes\n",
    "X_train.shape, X_test.shape, y_train.shape, y_test.shape\n",
    "    "
   ]
  },
  {
   "cell_type": "code",
   "execution_count": null,
   "id": "99cebb61",
   "metadata": {},
   "outputs": [],
   "source": [
    "\n",
    "# Train a Random Forest Classifier\n",
    "rf_model = RandomForestClassifier(n_estimators=100, random_state=42)\n",
    "rf_model.fit(X_train, y_train)\n",
    "\n",
    "# Predictions\n",
    "y_pred = rf_model.predict(X_test)\n",
    "\n",
    "# Model Evaluation\n",
    "accuracy = accuracy_score(y_test, y_pred)\n",
    "print(f\"Random Forest Accuracy: {accuracy * 100:.2f}%\")\n",
    "print(classification_report(y_test, y_pred))\n",
    "    "
   ]
  },
  {
   "cell_type": "code",
   "execution_count": null,
   "id": "2559bc9f",
   "metadata": {},
   "outputs": [],
   "source": [
    "\n",
    "# Save trained model\n",
    "joblib.dump(rf_model, \"churn_model.pkl\")\n",
    "print(\"Model saved successfully!\")\n",
    "    "
   ]
  }
 ],
 "metadata": {},
 "nbformat": 4,
 "nbformat_minor": 5
}